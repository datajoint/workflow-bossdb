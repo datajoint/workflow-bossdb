{
 "cells": [
  {
   "attachments": {},
   "cell_type": "markdown",
   "metadata": {
    "tags": []
   },
   "source": [
    "# DataJoint U24 - Workflow Volume\n"
   ]
  },
  {
   "attachments": {},
   "cell_type": "markdown",
   "metadata": {},
   "source": [
    "Change into the parent directory to find the `dj_local_conf.json` file.\n"
   ]
  },
  {
   "cell_type": "code",
   "execution_count": 1,
   "metadata": {
    "tags": []
   },
   "outputs": [],
   "source": [
    "import os\n",
    "import datajoint as dj\n",
    "from pathlib import Path\n",
    "\n",
    "# change to the upper level folder to detect dj_local_conf.json\n",
    "if os.path.basename(os.getcwd()) == \"notebooks\":\n",
    "    os.chdir(\"..\")"
   ]
  },
  {
   "cell_type": "code",
   "execution_count": null,
   "metadata": {},
   "outputs": [],
   "source": [
    "from workflow_volume.pipeline import (\n",
    "    imaging_report,\n",
    "    volume,\n",
    "    bossdb,\n",
    "    imaging,\n",
    "    scan,\n",
    "    Device,\n",
    "    session,\n",
    "    subject,\n",
    "    surgery,\n",
    "    lab,\n",
    ")\n",
    "\n",
    "dj.config[\"safemode\"] = True  # Set to false to turn off drop confirmation"
   ]
  },
  {
   "attachments": {},
   "cell_type": "markdown",
   "metadata": {},
   "source": [
    "## Drop schemas\n",
    "\n",
    "- Schemas are not typically dropped in a production workflow with real data in it.\n",
    "- At the developmental phase, it might be required for the table redesign.\n",
    "- When dropping all schemas is needed, drop items starting with the most downstream.\n"
   ]
  },
  {
   "cell_type": "code",
   "execution_count": null,
   "metadata": {},
   "outputs": [],
   "source": [
    "# imaging_report.schema.drop()\n",
    "# volume.schema.drop()\n",
    "# bossdb.schema.drop()\n",
    "# imaging.schema.drop()\n",
    "# scan.schema.drop()\n",
    "# Device.drop_quick()\n",
    "# session.schema.drop()\n",
    "# subject.schema.drop()\n",
    "# surgery.schema.drop()\n",
    "# lab.schema.drop()"
   ]
  }
 ],
 "metadata": {
  "jupytext": {
   "formats": "ipynb,py:percent"
  },
  "kernelspec": {
   "display_name": "ele",
   "language": "python",
   "name": "python3"
  },
  "language_info": {
   "codemirror_mode": {
    "name": "ipython",
    "version": 3
   },
   "file_extension": ".py",
   "mimetype": "text/x-python",
   "name": "python",
   "nbconvert_exporter": "python",
   "pygments_lexer": "ipython3",
   "version": "3.9.13"
  },
  "vscode": {
   "interpreter": {
    "hash": "d00c4ad21a7027bf1726d6ae3a9a6ef39c8838928eca5a3d5f51f3eb68720410"
   }
  }
 },
 "nbformat": 4,
 "nbformat_minor": 4
}
