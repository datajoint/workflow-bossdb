{
 "cells": [
  {
   "attachments": {},
   "cell_type": "markdown",
   "metadata": {
    "tags": []
   },
   "source": [
    "# DataJoint U24 - Workflow Volume"
   ]
  },
  {
   "cell_type": "markdown",
   "metadata": {},
   "source": [
    "## Introduction"
   ]
  },
  {
   "attachments": {},
   "cell_type": "markdown",
   "metadata": {},
   "source": [
    "This notebook introduces some useful DataJoint concepts for exploring pipelines featuring Element Volume.\n",
    "\n",
    "+ DataJoint needs to be configured before running this notebook (see [01-Configure](./01-Configure.ipynb)).\n",
    "+ Those familiar with the structure of DataJoint workflows can skip to [03-Explore](./03-Explore.ipynb)."
   ]
  },
  {
   "cell_type": "markdown",
   "metadata": {},
   "source": [
    "To load the local config, we move to the package root."
   ]
  },
  {
   "cell_type": "code",
   "execution_count": 1,
   "metadata": {},
   "outputs": [],
   "source": [
    "import os\n",
    "\n",
    "if os.path.basename(os.getcwd()) == \"notebooks\":\n",
    "    os.chdir(\"..\")"
   ]
  },
  {
   "cell_type": "markdown",
   "metadata": {},
   "source": [
    "## Schemas, Diagrams and Tables"
   ]
  },
  {
   "attachments": {},
   "cell_type": "markdown",
   "metadata": {},
   "source": [
    "Schemas are conceptually related sets of tables. By importing schemas from `workflow_volume.pipeline`, we'll declare the tables on the server with the prefix in the config (if we have permission to do so). If these tables are already declared, we'll gain access. \n",
    "\n",
    "- `dj.list_schemas()` lists all schemas a user has access to in the current database\n",
    "- `<schema>.schema.list_tables()` will provide names for each table in the format used under the hood."
   ]
  },
  {
   "cell_type": "code",
   "execution_count": 3,
   "metadata": {},
   "outputs": [],
   "source": [
    "import datajoint as dj\n",
    "from workflow_volume.pipeline import lab, subject, session, volume, bossdb\n",
    "\n",
    "# dj.list_schemas()"
   ]
  },
  {
   "cell_type": "code",
   "execution_count": 4,
   "metadata": {},
   "outputs": [
    {
     "data": {
      "text/plain": [
       "['#resolution',\n",
       " '#connectome_paramset',\n",
       " '#segmentation_paramset',\n",
       " '_connectome__connection',\n",
       " 'volume',\n",
       " 'segmentation_task',\n",
       " '_segmentation',\n",
       " '_segmentation__cell',\n",
       " 'connectome_task',\n",
       " '__cell_mapping',\n",
       " '_connectome']"
      ]
     },
     "execution_count": 4,
     "metadata": {},
     "output_type": "execute_result"
    }
   ],
   "source": [
    "volume.schema.list_tables()"
   ]
  },
  {
   "attachments": {},
   "cell_type": "markdown",
   "metadata": {},
   "source": [
    "`dj.Diagram()` plots tables and dependencies in a schema. To see additional upstream or downstream connections, add `- N` or `+ N`.\n",
    "\n",
    "- `volume`: Tables related to volumetric data\n",
    "- `bossdb`: Schema to manage BossDB urls for each data type. This could be replaced by a similar schema featuring URLs to another endpoint."
   ]
  },
  {
   "cell_type": "code",
   "execution_count": 5,
   "metadata": {
    "title": "`dj.Diagram()`: plot tables and dependencies"
   },
   "outputs": [
    {
     "data": {
      "image/svg+xml": "<svg xmlns=\"http://www.w3.org/2000/svg\" xmlns:xlink=\"http://www.w3.org/1999/xlink\" width=\"670pt\" height=\"524pt\" viewBox=\"0.00 0.00 669.50 524.00\">\n<g id=\"graph0\" class=\"graph\" transform=\"scale(1 1) rotate(0) translate(4 520)\">\n<polygon fill=\"white\" stroke=\"none\" points=\"-4,4 -4,-520 665.5,-520 665.5,4 -4,4\"/>\n<!-- 20 -->\n<g id=\"node1\" class=\"node\">\n<title>20</title>\n<ellipse fill=\"#ff8800\" fill-opacity=\"0.501961\" stroke=\"#ff8800\" stroke-opacity=\"0.501961\" cx=\"405\" cy=\"-72.5\" rx=\"2\" ry=\"2\"/>\n<text text-anchor=\"middle\" x=\"405\" y=\"-72.2\" font-family=\"arial\" font-size=\"1.00\" fill=\"#ff8800\" fill-opacity=\"0.501961\">20</text>\n</g>\n<!-- volume.Connectome.Connection -->\n<g id=\"node7\" class=\"node\">\n<title>volume.Connectome.Connection</title>\n<g id=\"a_node7\"><a xlink:title=\"→ volume.Segmentation.Cell.proj(pre_synaptic=&quot;cell_id&quot;)\r→ volume.Segmentation.Cell.proj(post_synaptic=&quot;cell_id&quot;)\r------------------------------\rconnectivity_strength \r\">\n<polygon fill=\"none\" stroke=\"none\" points=\"502.5,-19 343.5,-19 343.5,0 502.5,0 502.5,-19\"/>\n<text text-anchor=\"middle\" x=\"423\" y=\"-7\" font-family=\"arial\" font-size=\"10.00\">volume.Connectome.Connection</text>\n</a>\n</g>\n</g>\n<!-- 20&#45;&gt;volume.Connectome.Connection -->\n<g id=\"edge1\" class=\"edge\">\n<title>20-&gt;volume.Connectome.Connection</title>\n<path fill=\"none\" stroke=\"#000000\" stroke-width=\"0.75\" stroke-opacity=\"0.250980\" d=\"M405.2,-70.81C406.69,-65.79 415.96,-34.37 420.5,-18.98\"/>\n</g>\n<!-- 21 -->\n<g id=\"node2\" class=\"node\">\n<title>21</title>\n<ellipse fill=\"#ff8800\" fill-opacity=\"0.501961\" stroke=\"#ff8800\" stroke-opacity=\"0.501961\" cx=\"441\" cy=\"-72.5\" rx=\"2\" ry=\"2\"/>\n<text text-anchor=\"middle\" x=\"441\" y=\"-72.2\" font-family=\"arial\" font-size=\"1.00\" fill=\"#ff8800\" fill-opacity=\"0.501961\">21</text>\n</g>\n<!-- 21&#45;&gt;volume.Connectome.Connection -->\n<g id=\"edge2\" class=\"edge\">\n<title>21-&gt;volume.Connectome.Connection</title>\n<path fill=\"none\" stroke=\"#000000\" stroke-width=\"0.75\" stroke-opacity=\"0.250980\" d=\"M440.8,-70.81C439.31,-65.79 430.04,-34.37 425.5,-18.98\"/>\n</g>\n<!-- bossdb.BossDBURLs.Segmentation -->\n<g id=\"node3\" class=\"node\">\n<title>bossdb.BossDBURLs.Segmentation</title>\n<g id=\"a_node3\"><a xlink:title=\"→ bossdb.BossDBURLs\rurl                  \r\">\n<polygon fill=\"none\" stroke=\"none\" points=\"348,-437 172,-437 172,-418 348,-418 348,-437\"/>\n<text text-anchor=\"start\" x=\"180\" y=\"-426\" font-family=\"arial\" text-decoration=\"underline\" font-size=\"10.00\">bossdb.BossDBURLs.Segmentation</text>\n</a>\n</g>\n</g>\n<!-- volume.SegmentationTask -->\n<g id=\"node15\" class=\"node\">\n<title>volume.SegmentationTask</title>\n<g id=\"a_node15\"><a xlink:title=\"→ volume.Volume\r------------------------------\rtask_mode=&quot;load&quot;     \r→ [nullable] volume.SegmentationParamset\r→ [nullable] bossdb.BossDBURLs.Segmentation\r\">\n<polygon fill=\"#00ff00\" fill-opacity=\"0.188235\" stroke=\"#00ff00\" stroke-opacity=\"0.188235\" points=\"520,-303 362,-303 362,-268 520,-268 520,-303\"/>\n<text text-anchor=\"middle\" x=\"441\" y=\"-282.4\" font-family=\"arial\" font-size=\"12.00\" fill=\"darkgreen\">volume.SegmentationTask</text>\n</a>\n</g>\n</g>\n<!-- bossdb.BossDBURLs.Segmentation&#45;&gt;volume.SegmentationTask -->\n<g id=\"edge3\" class=\"edge\">\n<title>bossdb.BossDBURLs.Segmentation-&gt;volume.SegmentationTask</title>\n<path fill=\"none\" stroke=\"#000000\" stroke-width=\"0.75\" stroke-dasharray=\"5,2\" stroke-opacity=\"0.250980\" d=\"M270.78,-418.16C299.85,-395.67 380.3,-333.45 419.27,-303.3\"/>\n</g>\n<!-- bossdb.BossDBURLs.Connectome -->\n<g id=\"node4\" class=\"node\">\n<title>bossdb.BossDBURLs.Connectome</title>\n<g id=\"a_node4\"><a xlink:title=\"url                  \r\">\n<polygon fill=\"none\" stroke=\"none\" points=\"172,-224 0,-224 0,-205 172,-205 172,-224\"/>\n<text text-anchor=\"start\" x=\"8\" y=\"-213\" font-family=\"arial\" text-decoration=\"underline\" font-size=\"10.00\">bossdb.BossDBURLs.Connectome</text>\n</a>\n</g>\n</g>\n<!-- volume.ConnectomeTask -->\n<g id=\"node11\" class=\"node\">\n<title>volume.ConnectomeTask</title>\n<g id=\"a_node11\"><a xlink:title=\"→ volume.Segmentation\r→ volume.ConnectomeParamset\r------------------------------\rtask_mode=&quot;load&quot;     \r→ [nullable] bossdb.BossDBURLs.Connectome\r\">\n<polygon fill=\"#00ff00\" fill-opacity=\"0.188235\" stroke=\"#00ff00\" stroke-opacity=\"0.188235\" points=\"341,-161 189,-161 189,-126 341,-126 341,-161\"/>\n<text text-anchor=\"middle\" x=\"265\" y=\"-140.4\" font-family=\"arial\" font-size=\"12.00\" fill=\"darkgreen\">volume.ConnectomeTask</text>\n</a>\n</g>\n</g>\n<!-- bossdb.BossDBURLs.Connectome&#45;&gt;volume.ConnectomeTask -->\n<g id=\"edge4\" class=\"edge\">\n<title>bossdb.BossDBURLs.Connectome-&gt;volume.ConnectomeTask</title>\n<path fill=\"none\" stroke=\"#000000\" stroke-width=\"0.75\" stroke-dasharray=\"5,2\" stroke-opacity=\"0.250980\" d=\"M107.95,-205.04C135.96,-194.24 185.06,-175.31 220.93,-161.49\"/>\n</g>\n<!-- volume.SegmentationParamset -->\n<g id=\"node5\" class=\"node\">\n<title>volume.SegmentationParamset</title>\n<g id=\"a_node5\"><a xlink:title=\"paramset_idx         \r------------------------------\rsegmentation_method  \rparamset_desc=&quot;&quot;     \rparams               \rparamset_hash        \rUNIQUE INDEX (paramset_hash)\r\">\n<polygon fill=\"#000000\" fill-opacity=\"0.125490\" stroke=\"none\" points=\"661.5,-374 508.5,-374 508.5,-339 661.5,-339 661.5,-374\"/>\n<text text-anchor=\"start\" x=\"516.5\" y=\"-355\" font-family=\"arial\" text-decoration=\"underline\" font-size=\"10.00\">volume.SegmentationParamset</text>\n</a>\n</g>\n</g>\n<!-- volume.SegmentationParamset&#45;&gt;volume.SegmentationTask -->\n<g id=\"edge5\" class=\"edge\">\n<title>volume.SegmentationParamset-&gt;volume.SegmentationTask</title>\n<path fill=\"none\" stroke=\"#000000\" stroke-width=\"0.75\" stroke-dasharray=\"5,2\" stroke-opacity=\"0.250980\" d=\"M550.87,-339.15C528.42,-328.39 499.09,-314.34 476.38,-303.46\"/>\n</g>\n<!-- volume.ConnectomeParamset -->\n<g id=\"node6\" class=\"node\">\n<title>volume.ConnectomeParamset</title>\n<g id=\"a_node6\"><a xlink:title=\"paramset_idx         \r------------------------------\rconnectome_method    \rparamset_desc=&quot;&quot;     \rparams               \rparamset_hash        \rUNIQUE INDEX (paramset_hash)\r\">\n<polygon fill=\"#000000\" fill-opacity=\"0.125490\" stroke=\"none\" points=\"339.5,-232 190.5,-232 190.5,-197 339.5,-197 339.5,-232\"/>\n<text text-anchor=\"start\" x=\"198.5\" y=\"-213\" font-family=\"arial\" text-decoration=\"underline\" font-size=\"10.00\">volume.ConnectomeParamset</text>\n</a>\n</g>\n</g>\n<!-- volume.ConnectomeParamset&#45;&gt;volume.ConnectomeTask -->\n<g id=\"edge6\" class=\"edge\">\n<title>volume.ConnectomeParamset-&gt;volume.ConnectomeTask</title>\n<path fill=\"none\" stroke=\"#000000\" stroke-width=\"0.75\" stroke-opacity=\"0.250980\" d=\"M265,-197.15C265,-186.31 265,-172.13 265,-161.21\"/>\n</g>\n<!-- volume.Segmentation.Cell -->\n<g id=\"node8\" class=\"node\">\n<title>volume.Segmentation.Cell</title>\n<g id=\"a_node8\"><a xlink:title=\"→ volume.Segmentation\rcell_id              \r\">\n<polygon fill=\"none\" stroke=\"none\" points=\"506.5,-153 375.5,-153 375.5,-134 506.5,-134 506.5,-153\"/>\n<text text-anchor=\"start\" x=\"383.5\" y=\"-142\" font-family=\"arial\" text-decoration=\"underline\" font-size=\"10.00\">volume.Segmentation.Cell</text>\n</a>\n</g>\n</g>\n<!-- volume.Segmentation.Cell&#45;&gt;20 -->\n<g id=\"edge7\" class=\"edge\">\n<title>volume.Segmentation.Cell-&gt;20</title>\n<path fill=\"none\" stroke=\"#000000\" stroke-width=\"0.75\" stroke-opacity=\"0.250980\" d=\"M436.59,-134.04C427.72,-117.05 408.36,-79.94 405.39,-74.24\"/>\n</g>\n<!-- volume.Segmentation.Cell&#45;&gt;21 -->\n<g id=\"edge8\" class=\"edge\">\n<title>volume.Segmentation.Cell-&gt;21</title>\n<path fill=\"none\" stroke=\"#000000\" stroke-width=\"0.75\" stroke-opacity=\"0.250980\" d=\"M441,-134.04C441,-117.05 441,-79.94 441,-74.24\"/>\n</g>\n<!-- volume.CellMapping -->\n<g id=\"node14\" class=\"node\">\n<title>volume.CellMapping</title>\n<g id=\"a_node14\"><a xlink:title=\"→ volume.Segmentation.Cell\r→ `cbroz_wfboss_imaging`.`__segmentation__mask`\r\">\n<ellipse fill=\"#ff0000\" fill-opacity=\"0.125490\" stroke=\"#ff0000\" stroke-opacity=\"0.125490\" cx=\"532\" cy=\"-72.5\" rx=\"13\" ry=\"13\"/>\n<text text-anchor=\"middle\" x=\"532\" y=\"-69.4\" font-family=\"arial\" font-size=\"12.00\" fill=\"#7f0000\" fill-opacity=\"0.627451\">volume.CellMapping</text>\n</a>\n</g>\n</g>\n<!-- volume.Segmentation.Cell&#45;&gt;volume.CellMapping -->\n<g id=\"edge9\" class=\"edge\">\n<title>volume.Segmentation.Cell-&gt;volume.CellMapping</title>\n<path fill=\"none\" stroke=\"#000000\" stroke-width=\"0.75\" stroke-opacity=\"0.250980\" d=\"M452.16,-134.04C470.1,-120.44 505.07,-93.92 522.14,-80.97\"/>\n</g>\n<!-- volume.Connectome -->\n<g id=\"node9\" class=\"node\">\n<title>volume.Connectome</title>\n<g id=\"a_node9\"><a xlink:title=\"→ volume.ConnectomeTask\r\">\n<ellipse fill=\"#00007f\" fill-opacity=\"0.250980\" stroke=\"#00007f\" stroke-opacity=\"0.250980\" cx=\"265\" cy=\"-72.5\" rx=\"79.25\" ry=\"17.5\"/>\n<text text-anchor=\"middle\" x=\"265\" y=\"-69.4\" font-family=\"arial\" font-size=\"12.00\" fill=\"#00007f\" fill-opacity=\"0.627451\">volume.Connectome</text>\n</a>\n</g>\n</g>\n<!-- bossdb.BossDBURLs.Volume -->\n<g id=\"node10\" class=\"node\">\n<title>bossdb.BossDBURLs.Volume</title>\n<g id=\"a_node10\"><a xlink:title=\"→ bossdb.BossDBURLs\rurl                  \r\">\n<polygon fill=\"none\" stroke=\"none\" points=\"515.5,-437 366.5,-437 366.5,-418 515.5,-418 515.5,-437\"/>\n<text text-anchor=\"start\" x=\"374.5\" y=\"-426\" font-family=\"arial\" text-decoration=\"underline\" font-size=\"10.00\">bossdb.BossDBURLs.Volume</text>\n</a>\n</g>\n</g>\n<!-- volume.Volume -->\n<g id=\"node17\" class=\"node\">\n<title>volume.Volume</title>\n<g id=\"a_node17\"><a xlink:title=\"volume_id            \r→ volume.Resolution\r------------------------------\r→ [nullable] session.Session\rz_size               \ry_size               \rx_size               \rslicing_dimension=&quot;z&quot; \rchannel              \r→ [nullable] bossdb.BossDBURLs.Volume\rvolume_data=null     \r\">\n<polygon fill=\"#00ff00\" fill-opacity=\"0.188235\" stroke=\"#00ff00\" stroke-opacity=\"0.188235\" points=\"490.5,-374 391.5,-374 391.5,-339 490.5,-339 490.5,-374\"/>\n<text text-anchor=\"start\" x=\"399.5\" y=\"-354.4\" font-family=\"arial\" text-decoration=\"underline\" font-size=\"12.00\" fill=\"darkgreen\">volume.Volume</text>\n</a>\n</g>\n</g>\n<!-- bossdb.BossDBURLs.Volume&#45;&gt;volume.Volume -->\n<g id=\"edge10\" class=\"edge\">\n<title>bossdb.BossDBURLs.Volume-&gt;volume.Volume</title>\n<path fill=\"none\" stroke=\"#000000\" stroke-width=\"0.75\" stroke-dasharray=\"5,2\" stroke-opacity=\"0.250980\" d=\"M441,-418.04C441,-407.24 441,-388.31 441,-374.49\"/>\n</g>\n<!-- volume.ConnectomeTask&#45;&gt;volume.Connectome -->\n<g id=\"edge11\" class=\"edge\">\n<title>volume.ConnectomeTask-&gt;volume.Connectome</title>\n<path fill=\"none\" stroke=\"#000000\" stroke-width=\"2\" stroke-opacity=\"0.250980\" d=\"M265,-125.8C265,-114.95 265,-100.87 265,-90.05\"/>\n</g>\n<!-- volume.Segmentation -->\n<g id=\"node12\" class=\"node\">\n<title>volume.Segmentation</title>\n<g id=\"a_node12\"><a xlink:title=\"→ volume.SegmentationTask\r------------------------------\rsegmentation_data=null \r\">\n<ellipse fill=\"#00007f\" fill-opacity=\"0.250980\" stroke=\"#00007f\" stroke-opacity=\"0.250980\" cx=\"441\" cy=\"-214.5\" rx=\"83.25\" ry=\"17.5\"/>\n<text text-anchor=\"middle\" x=\"441\" y=\"-211.4\" font-family=\"arial\" font-size=\"12.00\" fill=\"#00007f\" fill-opacity=\"0.627451\">volume.Segmentation</text>\n</a>\n</g>\n</g>\n<!-- volume.Segmentation&#45;&gt;volume.Segmentation.Cell -->\n<g id=\"edge12\" class=\"edge\">\n<title>volume.Segmentation-&gt;volume.Segmentation.Cell</title>\n<path fill=\"none\" stroke=\"#000000\" stroke-width=\"0.75\" stroke-opacity=\"0.250980\" d=\"M441,-196.8C441,-182.92 441,-163.75 441,-152.89\"/>\n</g>\n<!-- volume.Segmentation&#45;&gt;volume.ConnectomeTask -->\n<g id=\"edge13\" class=\"edge\">\n<title>volume.Segmentation-&gt;volume.ConnectomeTask</title>\n<path fill=\"none\" stroke=\"#000000\" stroke-width=\"0.75\" stroke-opacity=\"0.250980\" d=\"M402.81,-198.53C374.91,-187.59 337.04,-172.74 308.06,-161.38\"/>\n</g>\n<!-- volume.Resolution -->\n<g id=\"node13\" class=\"node\">\n<title>volume.Resolution</title>\n<g id=\"a_node13\"><a xlink:title=\"resolution_id        \r------------------------------\rvoxel_unit           \rvoxel_z_size         \rvoxel_y_size         \rvoxel_x_size         \rdownsampling=0       \r\">\n<polygon fill=\"#000000\" fill-opacity=\"0.125490\" stroke=\"none\" points=\"632,-445 534,-445 534,-410 632,-410 632,-445\"/>\n<text text-anchor=\"start\" x=\"542\" y=\"-426\" font-family=\"arial\" text-decoration=\"underline\" font-size=\"10.00\">volume.Resolution</text>\n</a>\n</g>\n</g>\n<!-- volume.Resolution&#45;&gt;volume.Volume -->\n<g id=\"edge14\" class=\"edge\">\n<title>volume.Resolution-&gt;volume.Volume</title>\n<path fill=\"none\" stroke=\"#000000\" stroke-width=\"0.75\" stroke-opacity=\"0.250980\" d=\"M549.35,-410.15C527.2,-399.39 498.28,-385.34 475.89,-374.46\"/>\n</g>\n<!-- volume.SegmentationTask&#45;&gt;volume.Segmentation -->\n<g id=\"edge15\" class=\"edge\">\n<title>volume.SegmentationTask-&gt;volume.Segmentation</title>\n<path fill=\"none\" stroke=\"#000000\" stroke-width=\"2\" stroke-opacity=\"0.250980\" d=\"M441,-267.8C441,-256.95 441,-242.87 441,-232.05\"/>\n</g>\n<!-- bossdb.BossDBURLs -->\n<g id=\"node16\" class=\"node\">\n<title>bossdb.BossDBURLs</title>\n<g id=\"a_node16\"><a xlink:title=\"collection_experiment \r\">\n<polygon fill=\"#000000\" fill-opacity=\"0.125490\" stroke=\"none\" points=\"406.5,-516 293.5,-516 293.5,-481 406.5,-481 406.5,-516\"/>\n<text text-anchor=\"start\" x=\"301.5\" y=\"-497\" font-family=\"arial\" text-decoration=\"underline\" font-size=\"10.00\">bossdb.BossDBURLs</text>\n</a>\n</g>\n</g>\n<!-- bossdb.BossDBURLs&#45;&gt;bossdb.BossDBURLs.Segmentation -->\n<g id=\"edge16\" class=\"edge\">\n<title>bossdb.BossDBURLs-&gt;bossdb.BossDBURLs.Segmentation</title>\n<path fill=\"none\" stroke=\"#000000\" stroke-width=\"0.75\" stroke-opacity=\"0.250980\" d=\"M328.67,-481.15C310.58,-467.28 285.36,-447.94 271.06,-436.98\"/>\n</g>\n<!-- bossdb.BossDBURLs&#45;&gt;bossdb.BossDBURLs.Volume -->\n<g id=\"edge17\" class=\"edge\">\n<title>bossdb.BossDBURLs-&gt;bossdb.BossDBURLs.Volume</title>\n<path fill=\"none\" stroke=\"#000000\" stroke-width=\"0.75\" stroke-opacity=\"0.250980\" d=\"M371.57,-481.15C389.86,-467.28 415.36,-447.94 429.82,-436.98\"/>\n</g>\n<!-- volume.Volume&#45;&gt;volume.SegmentationTask -->\n<g id=\"edge18\" class=\"edge\">\n<title>volume.Volume-&gt;volume.SegmentationTask</title>\n<path fill=\"none\" stroke=\"#000000\" stroke-width=\"2\" stroke-opacity=\"0.250980\" d=\"M441,-338.8C441,-327.95 441,-313.87 441,-303.05\"/>\n</g>\n</g>\n</svg>",
      "text/plain": [
       "<datajoint.diagram.Diagram at 0x103a828b0>"
      ]
     },
     "execution_count": 5,
     "metadata": {},
     "output_type": "execute_result"
    }
   ],
   "source": [
    "dj.Diagram(volume) + dj.Diagram(bossdb)"
   ]
  },
  {
   "attachments": {},
   "cell_type": "markdown",
   "metadata": {},
   "source": [
    "`volume.Volume` is a central table where volumetric data can be ingested, either from images on disk or downloaded from BossDB. The various *task* tables can be used to cue up analysis or ingestion of the various subsequent data types (i.e., segmentation and connectome data. Each segmented cell can be matched with data from another source (e.g., Element Calcium Imaging's `Segmentation.Mask`)."
   ]
  },
  {
   "cell_type": "code",
   "execution_count": null,
   "metadata": {},
   "outputs": [],
   "source": [
    "dj.Diagram(volume) - 1"
   ]
  },
  {
   "cell_type": "markdown",
   "metadata": {},
   "source": [
    "### Table Types\n",
    "\n",
    "- **Manual table**: green box, manually inserted table, expect new entries daily, e.g. Subject, ProbeInsertion.  \n",
    "- **Lookup table**: gray box, pre inserted table, commonly used for general facts or parameters. e.g. Strain, ClusteringMethod, ClusteringParamSet.  \n",
    "- **Imported table**: blue oval, auto-processing table, the processing depends on the importing of external files. e.g. process of Clustering requires output files from kilosort2.  \n",
    "- **Computed table**: red circle, auto-processing table, the processing does not depend on files external to the database, commonly used for     \n",
    "- **Part table**: plain text, as an appendix to the master table, all the part entries of a given master entry represent a intact set of the master entry. e.g. Unit of a CuratedClustering.\n",
    "\n",
    "### Table Links\n",
    "\n",
    "- **One-to-one primary**: thick solid line, share the exact same primary key, meaning the child table inherits all the primary key fields from the parent table as its own primary key.     \n",
    "- **One-to-many primary**: thin solid line, inherit the primary key from the parent table, but have additional field(s) as part of the primary key as well\n",
    "- **Secondary dependency**: dashed line, the child table inherits the primary key fields from parent table as its own secondary attribute."
   ]
  },
  {
   "cell_type": "markdown",
   "metadata": {},
   "source": [
    "## Common Table Functions"
   ]
  },
  {
   "cell_type": "markdown",
   "metadata": {},
   "source": [
    "\n",
    "- `<table>()` show table contents\n",
    "- `heading` shows attribute definitions\n",
    "- `describe()` show table defintiion with foreign key references"
   ]
  },
  {
   "cell_type": "code",
   "execution_count": 7,
   "metadata": {
    "title": "Each datajoint table class inside the module corresponds to a table inside the schema. For example, the class `ephys.EphysRecording` correponds to the table `_ephys_recording` in the schema `neuro_ephys` in the database."
   },
   "outputs": [
    {
     "data": {
      "text/html": [
       "\n",
       "    \n",
       "    <style type=\"text/css\">\n",
       "        .Table{\n",
       "            border-collapse:collapse;\n",
       "        }\n",
       "        .Table th{\n",
       "            background: #565a72; color: #F8F8F2; padding:4px; border:#f0e0e0 1px solid;\n",
       "            font-weight: normal; font-family: monospace; font-size: 100%;\n",
       "        }\n",
       "        .Table td{\n",
       "            background: #282A36;\n",
       "            padding:4px; border:#f0e0e0 1px solid; font-size:100%;\n",
       "        }\n",
       "        .Table tr:nth-child(odd){\n",
       "            background: #44475A;\n",
       "        }\n",
       "        .Table tr:nth-child(even){\n",
       "            background: #282A36;\n",
       "        }\n",
       "        /* Tooltip container */\n",
       "        .djtooltip {\n",
       "        }\n",
       "        /* Tooltip text */\n",
       "        .djtooltip .djtooltiptext {\n",
       "            visibility: hidden;\n",
       "            width: 120px;\n",
       "            background-color: #282A36;\n",
       "            color: #6272A4;\n",
       "            text-align: center;\n",
       "            padding: 5px 0;\n",
       "            border-radius: 6px;\n",
       "            /* Position the tooltip text - see examples below! */\n",
       "            position: absolute;\n",
       "            z-index: 1;\n",
       "        }\n",
       "        #primary {\n",
       "            font-weight: bold;\n",
       "            color: #BD93F9;\n",
       "        }\n",
       "        #nonprimary {\n",
       "            font-weight: normal;\n",
       "            color: #F8F8F2;\n",
       "        }\n",
       "\n",
       "        /* Show the tooltip text when you mouse over the tooltip container */\n",
       "        .djtooltip:hover .djtooltiptext {\n",
       "            visibility: visible;\n",
       "        }\n",
       "    </style>\n",
       "    \n",
       "    <b>Resolution of stored data</b>\n",
       "        <div style=\"max-height:1000px;max-width:1500px;overflow:auto;\">\n",
       "        <table border=\"1\" class=\"Table\">\n",
       "            <thead> <tr style=\"text-align: right;\"> <th> <div class=\"djtooltip\">\n",
       "                            <p id=\"primary\">resolution_id</p>\n",
       "                            <span class=\"djtooltiptext\">Shorthand for convention</span>\n",
       "                        </div></th><th><div class=\"djtooltip\">\n",
       "                            <p id=\"nonprimary\">voxel_unit</p>\n",
       "                            <span class=\"djtooltiptext\">e.g., nanometers</span>\n",
       "                        </div></th><th><div class=\"djtooltip\">\n",
       "                            <p id=\"nonprimary\">voxel_z_size</p>\n",
       "                            <span class=\"djtooltiptext\">size of one z dimension voxel in voxel_units</span>\n",
       "                        </div></th><th><div class=\"djtooltip\">\n",
       "                            <p id=\"nonprimary\">voxel_y_size</p>\n",
       "                            <span class=\"djtooltiptext\">size of one y dimension voxel in voxel_units</span>\n",
       "                        </div></th><th><div class=\"djtooltip\">\n",
       "                            <p id=\"nonprimary\">voxel_x_size</p>\n",
       "                            <span class=\"djtooltiptext\">size of one x dimension voxel in voxel_units</span>\n",
       "                        </div></th><th><div class=\"djtooltip\">\n",
       "                            <p id=\"nonprimary\">downsampling</p>\n",
       "                            <span class=\"djtooltiptext\">Downsampling iterations relative to raw data</span>\n",
       "                        </div> </th> </tr> </thead>\n",
       "            <tbody> <tr> <td>990nm</td>\n",
       "<td>micrometers</td>\n",
       "<td>1.0</td>\n",
       "<td>0.5</td>\n",
       "<td>0.5</td>\n",
       "<td>0</td> </tr> </tbody>\n",
       "        </table>\n",
       "        \n",
       "        <p>Total: 1</p></div>\n",
       "        "
      ],
      "text/plain": [
       "*resolution_id voxel_unit     voxel_z_size   voxel_y_size   voxel_x_size   downsampling  \n",
       "+------------+ +------------+ +------------+ +------------+ +------------+ +------------+\n",
       "990nm          micrometers    1.0            0.5            0.5            0             \n",
       " (Total: 1)"
      ]
     },
     "execution_count": 7,
     "metadata": {},
     "output_type": "execute_result"
    }
   ],
   "source": [
    "volume.Resolution()"
   ]
  },
  {
   "cell_type": "code",
   "execution_count": 8,
   "metadata": {
    "title": "`heading`: show table attributes regardless of foreign key references."
   },
   "outputs": [
    {
     "data": {
      "text/plain": [
       "# Dataset of a contiguous volume\n",
       "volume_id            : varchar(32)                  # shorthand for this volume\n",
       "resolution_id        : varchar(32)                  # Shorthand for convention\n",
       "---\n",
       "subject=null         : varchar(8)                   # \n",
       "session_id=null      : int                          # \n",
       "z_size               : int                          # total number of voxels in z dimension\n",
       "y_size               : int                          # total number of voxels in y dimension\n",
       "x_size               : int                          # total number of voxels in x dimension\n",
       "slicing_dimension=\"z\" : enum('x','y','z')            # perspective of slices\n",
       "channel              : varchar(64)                  # data type or modality\n",
       "collection_experiment=null : varchar(64)                  # \n",
       "url=null             : varchar(64)                  # \n",
       "volume_data=null     : longblob                     # Upload assumes (Z, Y, X) np.array"
      ]
     },
     "execution_count": 8,
     "metadata": {},
     "output_type": "execute_result"
    }
   ],
   "source": [
    "volume.Volume.heading"
   ]
  },
  {
   "cell_type": "code",
   "execution_count": 9,
   "metadata": {},
   "outputs": [
    {
     "data": {
      "text/plain": [
       "'-> volume.SegmentationTask\\n---\\nsegmentation_data=null : longblob                     \\n'"
      ]
     },
     "execution_count": 9,
     "metadata": {},
     "output_type": "execute_result"
    }
   ],
   "source": [
    "volume.Segmentation.describe()"
   ]
  },
  {
   "attachments": {},
   "cell_type": "markdown",
   "metadata": {
    "title": "ephys"
   },
   "source": [
    "## Other Elements installed with the workflow\n",
    "\n",
    "- [`lab`](https://github.com/datajoint/element-lab): lab management related information, such as Lab, User, Project, Protocol, Source.\n",
    "- [`subject`](https://github.com/datajoint/element-animal): general animal information, User, Genetic background, Death etc.\n",
    "- [`session`](https://github.com/datajoint/element-session): general information of experimental sessions.\n",
    "- [`calcium-imaging`](https://github.com/datajoint/element-calcium-imaging): imaging schema for generating activity traces. These can be mapped to cells in `volume.Connectome`\n",
    "\n",
    "For more information about these Elements, see [workflow session](https://github.com/datajoint/workflow-session) or [workflow calcium imaging](https://github.com/datajoint/workflow-calcium-imaging)."
   ]
  },
  {
   "cell_type": "code",
   "execution_count": null,
   "metadata": {},
   "outputs": [],
   "source": [
    "dj.Diagram(lab) + dj.Diagram(subject) + dj.Diagram(session)"
   ]
  },
  {
   "cell_type": "code",
   "execution_count": 11,
   "metadata": {
    "title": "[session](https://github.com/datajoint/element-session): experimental session information"
   },
   "outputs": [
    {
     "name": "stdout",
     "output_type": "stream",
     "text": [
      "-> subject.Subject\n",
      "session_datetime     : datetime                     \n",
      "\n"
     ]
    },
    {
     "data": {
      "text/plain": [
       "'-> subject.Subject\\nsession_datetime     : datetime                     \\n'"
      ]
     },
     "execution_count": 11,
     "metadata": {},
     "output_type": "execute_result"
    }
   ],
   "source": [
    "session.Session.describe()"
   ]
  },
  {
   "attachments": {},
   "cell_type": "markdown",
   "metadata": {},
   "source": [
    "## Summary and next step\n",
    "\n",
    "- This notebook introduced the overall structures of the schemas and tables in the workflow and relevant tools to explore the schema structure and table definitions.\n",
    "\n",
    "- The [next notebook](./03-Explore.ipynb) will introduce the detailed steps to run through `workflow-volume`."
   ]
  }
 ],
 "metadata": {
  "jupytext": {
   "encoding": "# -*- coding: utf-8 -*-",
   "formats": "ipynb,py:percent"
  },
  "kernelspec": {
   "display_name": "ele",
   "language": "python",
   "name": "python3"
  },
  "language_info": {
   "codemirror_mode": {
    "name": "ipython",
    "version": 3
   },
   "file_extension": ".py",
   "mimetype": "text/x-python",
   "name": "python",
   "nbconvert_exporter": "python",
   "pygments_lexer": "ipython3",
   "version": "3.9.13"
  },
  "vscode": {
   "interpreter": {
    "hash": "d00c4ad21a7027bf1726d6ae3a9a6ef39c8838928eca5a3d5f51f3eb68720410"
   }
  }
 },
 "nbformat": 4,
 "nbformat_minor": 4
}
